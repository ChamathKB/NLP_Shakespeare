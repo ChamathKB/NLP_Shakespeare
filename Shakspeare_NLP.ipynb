{
  "nbformat": 4,
  "nbformat_minor": 0,
  "metadata": {
    "colab": {
      "name": "Shakspeare_NLP.ipynb",
      "provenance": [],
      "collapsed_sections": []
    },
    "kernelspec": {
      "name": "python3",
      "display_name": "Python 3"
    },
    "language_info": {
      "name": "python"
    }
  },
  "cells": [
    {
      "cell_type": "code",
      "metadata": {
        "id": "-EiEuesY470y"
      },
      "source": [
        "from tensorflow.keras.preprocessing.sequence import pad_sequences\n",
        "from tensorflow.keras.layers import Embedding, LSTM, Dropout, Dense, Bidirectional\n",
        "from tensorflow.keras.preprocessing.text import Tokenizer\n",
        "from tensorflow.keras.models import Sequential\n",
        "from tensorflow.keras.optimizers import Adam\n",
        "from tensorflow.keras import regularizers\n",
        "import tensorflow.keras.utils as ku\n",
        "import numpy as np"
      ],
      "execution_count": 1,
      "outputs": []
    },
    {
      "cell_type": "code",
      "metadata": {
        "colab": {
          "base_uri": "https://localhost:8080/"
        },
        "id": "zHuiUeyu6Sru",
        "outputId": "4ca49e9b-57a1-48d3-b191-4e81177ffd7c"
      },
      "source": [
        "tokenizer = Tokenizer()\n",
        "\n",
        "!wget --no-check-certificate \\\n",
        "    https://storage.googleapis.com/laurencemoroney-blog.appspot.com/sonnets.txt \\\n",
        "    -O /tmp/sonnets.txt\n",
        "\n",
        "data = open('/tmp/sonnets.txt').read()\n",
        "\n",
        "corpus = data.lower().split('\\n')\n",
        "\n",
        "tokenizer.fit_on_texts(corpus)\n",
        "total_words = len(tokenizer.word_index) + 1\n",
        "\n",
        "input_sequence = []\n",
        "\n",
        "for line in corpus:\n",
        "  token_list = tokenizer.texts_to_sequences([line])[0]\n",
        "  for i in range(1, len(token_list)):\n",
        "    n_gram_sequence = token_list[:i+1]\n",
        "    input_sequence.append(n_gram_sequence)\n",
        "\n",
        "max_sequence_len = max([len(x) for x in input_sequence])\n",
        "input_sequence = np.array(pad_sequences(input_sequence, maxlen=max_sequence_len, padding='pre'))\n",
        "\n",
        "predictors, label = input_sequence[:,:-1], input_sequence[:,-1]\n",
        "\n",
        "label = ku.to_categorical(label, num_classes=total_words)"
      ],
      "execution_count": 3,
      "outputs": [
        {
          "output_type": "stream",
          "text": [
            "--2021-04-20 11:04:40--  https://storage.googleapis.com/laurencemoroney-blog.appspot.com/sonnets.txt\n",
            "Resolving storage.googleapis.com (storage.googleapis.com)... 142.250.101.128, 216.58.192.112, 74.125.137.128, ...\n",
            "Connecting to storage.googleapis.com (storage.googleapis.com)|142.250.101.128|:443... connected.\n",
            "HTTP request sent, awaiting response... 200 OK\n",
            "Length: 93578 (91K) [text/plain]\n",
            "Saving to: ‘/tmp/sonnets.txt’\n",
            "\n",
            "\r/tmp/sonnets.txt      0%[                    ]       0  --.-KB/s               \r/tmp/sonnets.txt    100%[===================>]  91.38K  --.-KB/s    in 0.001s  \n",
            "\n",
            "2021-04-20 11:04:40 (124 MB/s) - ‘/tmp/sonnets.txt’ saved [93578/93578]\n",
            "\n"
          ],
          "name": "stdout"
        }
      ]
    },
    {
      "cell_type": "code",
      "metadata": {
        "colab": {
          "base_uri": "https://localhost:8080/"
        },
        "id": "kgcHu46I8_Sy",
        "outputId": "f15d0fa2-6f8e-4379-88b3-c64d66ef45ec"
      },
      "source": [
        "model = Sequential()\n",
        "model.add(Embedding(total_words, 100, input_length=max_sequence_len-1))\n",
        "model.add(Bidirectional(LSTM(150, return_sequences=True)))\n",
        "model.add(Dropout(0.2))\n",
        "model.add(LSTM(100))\n",
        "model.add(Dense(total_words/2, activation='relu', kernel_regularizer=regularizers.l2(0.01)))\n",
        "model.add(Dense(total_words, activation='softmax'))\n",
        "\n",
        "model.compile(loss='categorical_crossentropy', optimizer='adam', metrics=['accuracy'])\n",
        "\n",
        "model.summary()"
      ],
      "execution_count": 4,
      "outputs": [
        {
          "output_type": "stream",
          "text": [
            "Model: \"sequential\"\n",
            "_________________________________________________________________\n",
            "Layer (type)                 Output Shape              Param #   \n",
            "=================================================================\n",
            "embedding (Embedding)        (None, 10, 100)           321100    \n",
            "_________________________________________________________________\n",
            "bidirectional (Bidirectional (None, 10, 300)           301200    \n",
            "_________________________________________________________________\n",
            "dropout (Dropout)            (None, 10, 300)           0         \n",
            "_________________________________________________________________\n",
            "lstm_1 (LSTM)                (None, 100)               160400    \n",
            "_________________________________________________________________\n",
            "dense (Dense)                (None, 1605)              162105    \n",
            "_________________________________________________________________\n",
            "dense_1 (Dense)              (None, 3211)              5156866   \n",
            "=================================================================\n",
            "Total params: 6,101,671\n",
            "Trainable params: 6,101,671\n",
            "Non-trainable params: 0\n",
            "_________________________________________________________________\n"
          ],
          "name": "stdout"
        }
      ]
    },
    {
      "cell_type": "code",
      "metadata": {
        "colab": {
          "base_uri": "https://localhost:8080/"
        },
        "id": "klzGnGZc-iAe",
        "outputId": "f6465294-5068-4dd3-e136-b613a7fe1fda"
      },
      "source": [
        "history = model.fit(predictors, label, epochs=100, verbose=1)"
      ],
      "execution_count": 5,
      "outputs": [
        {
          "output_type": "stream",
          "text": [
            "Epoch 1/100\n",
            "484/484 [==============================] - 53s 100ms/step - loss: 7.3268 - accuracy: 0.0195\n",
            "Epoch 2/100\n",
            "484/484 [==============================] - 49s 101ms/step - loss: 6.4815 - accuracy: 0.0223\n",
            "Epoch 3/100\n",
            "484/484 [==============================] - 48s 99ms/step - loss: 6.4055 - accuracy: 0.0230\n",
            "Epoch 4/100\n",
            "484/484 [==============================] - 48s 99ms/step - loss: 6.2715 - accuracy: 0.0297\n",
            "Epoch 5/100\n",
            "484/484 [==============================] - 48s 100ms/step - loss: 6.1678 - accuracy: 0.0382\n",
            "Epoch 6/100\n",
            "484/484 [==============================] - 48s 100ms/step - loss: 6.0795 - accuracy: 0.0421\n",
            "Epoch 7/100\n",
            "484/484 [==============================] - 48s 100ms/step - loss: 5.9854 - accuracy: 0.0437\n",
            "Epoch 8/100\n",
            "484/484 [==============================] - 48s 100ms/step - loss: 5.8790 - accuracy: 0.0479\n",
            "Epoch 9/100\n",
            "484/484 [==============================] - 48s 100ms/step - loss: 5.7892 - accuracy: 0.0539\n",
            "Epoch 10/100\n",
            "484/484 [==============================] - 48s 100ms/step - loss: 5.6757 - accuracy: 0.0638\n",
            "Epoch 11/100\n",
            "484/484 [==============================] - 48s 100ms/step - loss: 5.5641 - accuracy: 0.0670\n",
            "Epoch 12/100\n",
            "484/484 [==============================] - 48s 100ms/step - loss: 5.4644 - accuracy: 0.0697\n",
            "Epoch 13/100\n",
            "484/484 [==============================] - 48s 99ms/step - loss: 5.3775 - accuracy: 0.0765\n",
            "Epoch 14/100\n",
            "484/484 [==============================] - 48s 100ms/step - loss: 5.2524 - accuracy: 0.0853\n",
            "Epoch 15/100\n",
            "484/484 [==============================] - 48s 99ms/step - loss: 5.1287 - accuracy: 0.0969\n",
            "Epoch 16/100\n",
            "484/484 [==============================] - 48s 100ms/step - loss: 5.0071 - accuracy: 0.1014\n",
            "Epoch 17/100\n",
            "484/484 [==============================] - 48s 98ms/step - loss: 4.9404 - accuracy: 0.1078\n",
            "Epoch 18/100\n",
            "484/484 [==============================] - 48s 99ms/step - loss: 4.7806 - accuracy: 0.1220\n",
            "Epoch 19/100\n",
            "484/484 [==============================] - 48s 100ms/step - loss: 4.7163 - accuracy: 0.1236\n",
            "Epoch 20/100\n",
            "484/484 [==============================] - 48s 100ms/step - loss: 4.5958 - accuracy: 0.1320\n",
            "Epoch 21/100\n",
            "484/484 [==============================] - 48s 99ms/step - loss: 4.4980 - accuracy: 0.1456\n",
            "Epoch 22/100\n",
            "484/484 [==============================] - 48s 99ms/step - loss: 4.3948 - accuracy: 0.1536\n",
            "Epoch 23/100\n",
            "484/484 [==============================] - 48s 99ms/step - loss: 4.2915 - accuracy: 0.1734\n",
            "Epoch 24/100\n",
            "484/484 [==============================] - 48s 100ms/step - loss: 4.1903 - accuracy: 0.1842\n",
            "Epoch 25/100\n",
            "484/484 [==============================] - 48s 99ms/step - loss: 4.1001 - accuracy: 0.1926\n",
            "Epoch 26/100\n",
            "484/484 [==============================] - 48s 100ms/step - loss: 3.9429 - accuracy: 0.2153\n",
            "Epoch 27/100\n",
            "484/484 [==============================] - 48s 100ms/step - loss: 3.8477 - accuracy: 0.2327\n",
            "Epoch 28/100\n",
            "484/484 [==============================] - 48s 100ms/step - loss: 3.7926 - accuracy: 0.2397\n",
            "Epoch 29/100\n",
            "484/484 [==============================] - 48s 100ms/step - loss: 3.6793 - accuracy: 0.2651\n",
            "Epoch 30/100\n",
            "484/484 [==============================] - 48s 100ms/step - loss: 3.5500 - accuracy: 0.2884\n",
            "Epoch 31/100\n",
            "484/484 [==============================] - 48s 100ms/step - loss: 3.4964 - accuracy: 0.3075\n",
            "Epoch 32/100\n",
            "484/484 [==============================] - 48s 100ms/step - loss: 3.3630 - accuracy: 0.3288\n",
            "Epoch 33/100\n",
            "484/484 [==============================] - 48s 100ms/step - loss: 3.2872 - accuracy: 0.3511\n",
            "Epoch 34/100\n",
            "484/484 [==============================] - 48s 99ms/step - loss: 3.1828 - accuracy: 0.3709\n",
            "Epoch 35/100\n",
            "484/484 [==============================] - 48s 100ms/step - loss: 3.1216 - accuracy: 0.3825\n",
            "Epoch 36/100\n",
            "484/484 [==============================] - 48s 100ms/step - loss: 3.0272 - accuracy: 0.4058\n",
            "Epoch 37/100\n",
            "484/484 [==============================] - 48s 100ms/step - loss: 2.9565 - accuracy: 0.4272\n",
            "Epoch 38/100\n",
            "484/484 [==============================] - 48s 100ms/step - loss: 2.8707 - accuracy: 0.4470\n",
            "Epoch 39/100\n",
            "484/484 [==============================] - 48s 99ms/step - loss: 2.8247 - accuracy: 0.4517\n",
            "Epoch 40/100\n",
            "484/484 [==============================] - 48s 99ms/step - loss: 2.7449 - accuracy: 0.4712\n",
            "Epoch 41/100\n",
            "484/484 [==============================] - 48s 99ms/step - loss: 2.6628 - accuracy: 0.4960\n",
            "Epoch 42/100\n",
            "484/484 [==============================] - 48s 99ms/step - loss: 2.6176 - accuracy: 0.5059\n",
            "Epoch 43/100\n",
            "484/484 [==============================] - 48s 99ms/step - loss: 2.5492 - accuracy: 0.5210\n",
            "Epoch 44/100\n",
            "484/484 [==============================] - 48s 99ms/step - loss: 2.5104 - accuracy: 0.5261\n",
            "Epoch 45/100\n",
            "484/484 [==============================] - 48s 100ms/step - loss: 2.4566 - accuracy: 0.5371\n",
            "Epoch 46/100\n",
            "484/484 [==============================] - 48s 100ms/step - loss: 2.3749 - accuracy: 0.5525\n",
            "Epoch 47/100\n",
            "484/484 [==============================] - 49s 100ms/step - loss: 2.3396 - accuracy: 0.5676\n",
            "Epoch 48/100\n",
            "484/484 [==============================] - 49s 100ms/step - loss: 2.2798 - accuracy: 0.5813\n",
            "Epoch 49/100\n",
            "484/484 [==============================] - 48s 100ms/step - loss: 2.2416 - accuracy: 0.5892\n",
            "Epoch 50/100\n",
            "484/484 [==============================] - 48s 99ms/step - loss: 2.1464 - accuracy: 0.6094\n",
            "Epoch 51/100\n",
            "484/484 [==============================] - 49s 101ms/step - loss: 2.1296 - accuracy: 0.6173\n",
            "Epoch 52/100\n",
            "484/484 [==============================] - 49s 101ms/step - loss: 2.1084 - accuracy: 0.6168\n",
            "Epoch 53/100\n",
            "484/484 [==============================] - 49s 100ms/step - loss: 2.0469 - accuracy: 0.6371\n",
            "Epoch 54/100\n",
            "484/484 [==============================] - 49s 101ms/step - loss: 1.9979 - accuracy: 0.6385\n",
            "Epoch 55/100\n",
            "484/484 [==============================] - 49s 101ms/step - loss: 1.9354 - accuracy: 0.6588\n",
            "Epoch 56/100\n",
            "484/484 [==============================] - 49s 101ms/step - loss: 1.9306 - accuracy: 0.6536\n",
            "Epoch 57/100\n",
            "484/484 [==============================] - 49s 101ms/step - loss: 1.8631 - accuracy: 0.6728\n",
            "Epoch 58/100\n",
            "484/484 [==============================] - 49s 101ms/step - loss: 1.8710 - accuracy: 0.6618\n",
            "Epoch 59/100\n",
            "484/484 [==============================] - 49s 101ms/step - loss: 1.8409 - accuracy: 0.6790\n",
            "Epoch 60/100\n",
            "484/484 [==============================] - 49s 101ms/step - loss: 1.7940 - accuracy: 0.6884\n",
            "Epoch 61/100\n",
            "484/484 [==============================] - 49s 101ms/step - loss: 1.7705 - accuracy: 0.6877\n",
            "Epoch 62/100\n",
            "484/484 [==============================] - 49s 101ms/step - loss: 1.7319 - accuracy: 0.6964\n",
            "Epoch 63/100\n",
            "484/484 [==============================] - 49s 101ms/step - loss: 1.7155 - accuracy: 0.7010\n",
            "Epoch 64/100\n",
            "484/484 [==============================] - 49s 101ms/step - loss: 1.6454 - accuracy: 0.7163\n",
            "Epoch 65/100\n",
            "484/484 [==============================] - 49s 101ms/step - loss: 1.6558 - accuracy: 0.7130\n",
            "Epoch 66/100\n",
            "484/484 [==============================] - 49s 101ms/step - loss: 1.6299 - accuracy: 0.7165\n",
            "Epoch 67/100\n",
            "484/484 [==============================] - 49s 101ms/step - loss: 1.5997 - accuracy: 0.7285\n",
            "Epoch 68/100\n",
            "484/484 [==============================] - 49s 101ms/step - loss: 1.5725 - accuracy: 0.7288\n",
            "Epoch 69/100\n",
            "484/484 [==============================] - 49s 101ms/step - loss: 1.5550 - accuracy: 0.7284\n",
            "Epoch 70/100\n",
            "484/484 [==============================] - 49s 101ms/step - loss: 1.5358 - accuracy: 0.7374\n",
            "Epoch 71/100\n",
            "484/484 [==============================] - 49s 100ms/step - loss: 1.5020 - accuracy: 0.7449\n",
            "Epoch 72/100\n",
            "484/484 [==============================] - 49s 101ms/step - loss: 1.4977 - accuracy: 0.7439\n",
            "Epoch 73/100\n",
            "484/484 [==============================] - 49s 101ms/step - loss: 1.4502 - accuracy: 0.7576\n",
            "Epoch 74/100\n",
            "484/484 [==============================] - 49s 100ms/step - loss: 1.4175 - accuracy: 0.7653\n",
            "Epoch 75/100\n",
            "484/484 [==============================] - 48s 100ms/step - loss: 1.4400 - accuracy: 0.7539\n",
            "Epoch 76/100\n",
            "484/484 [==============================] - 48s 100ms/step - loss: 1.3785 - accuracy: 0.7686\n",
            "Epoch 77/100\n",
            "484/484 [==============================] - 49s 101ms/step - loss: 1.3791 - accuracy: 0.7673\n",
            "Epoch 78/100\n",
            "484/484 [==============================] - 49s 101ms/step - loss: 1.3567 - accuracy: 0.7706\n",
            "Epoch 79/100\n",
            "484/484 [==============================] - 49s 101ms/step - loss: 1.3438 - accuracy: 0.7750\n",
            "Epoch 80/100\n",
            "484/484 [==============================] - 49s 101ms/step - loss: 1.3246 - accuracy: 0.7772\n",
            "Epoch 81/100\n",
            "484/484 [==============================] - 49s 101ms/step - loss: 1.3036 - accuracy: 0.7828\n",
            "Epoch 82/100\n",
            "484/484 [==============================] - 49s 101ms/step - loss: 1.2967 - accuracy: 0.7837\n",
            "Epoch 83/100\n",
            "484/484 [==============================] - 49s 101ms/step - loss: 1.2721 - accuracy: 0.7873\n",
            "Epoch 84/100\n",
            "484/484 [==============================] - 49s 101ms/step - loss: 1.2756 - accuracy: 0.7850\n",
            "Epoch 85/100\n",
            "484/484 [==============================] - 49s 101ms/step - loss: 1.2759 - accuracy: 0.7843\n",
            "Epoch 86/100\n",
            "484/484 [==============================] - 49s 101ms/step - loss: 1.2305 - accuracy: 0.7917\n",
            "Epoch 87/100\n",
            "484/484 [==============================] - 49s 101ms/step - loss: 1.2359 - accuracy: 0.7880\n",
            "Epoch 88/100\n",
            "484/484 [==============================] - 49s 101ms/step - loss: 1.2395 - accuracy: 0.7869\n",
            "Epoch 89/100\n",
            "484/484 [==============================] - 49s 100ms/step - loss: 1.2180 - accuracy: 0.7945\n",
            "Epoch 90/100\n",
            "484/484 [==============================] - 49s 101ms/step - loss: 1.1876 - accuracy: 0.8025\n",
            "Epoch 91/100\n",
            "484/484 [==============================] - 49s 101ms/step - loss: 1.1857 - accuracy: 0.8013\n",
            "Epoch 92/100\n",
            "484/484 [==============================] - 49s 100ms/step - loss: 1.1894 - accuracy: 0.7969\n",
            "Epoch 93/100\n",
            "484/484 [==============================] - 49s 101ms/step - loss: 1.1471 - accuracy: 0.8065\n",
            "Epoch 94/100\n",
            "484/484 [==============================] - 49s 101ms/step - loss: 1.1584 - accuracy: 0.8055\n",
            "Epoch 95/100\n",
            "484/484 [==============================] - 49s 101ms/step - loss: 1.1372 - accuracy: 0.8091\n",
            "Epoch 96/100\n",
            "484/484 [==============================] - 49s 101ms/step - loss: 1.1387 - accuracy: 0.8052\n",
            "Epoch 97/100\n",
            "484/484 [==============================] - 49s 101ms/step - loss: 1.1271 - accuracy: 0.8077\n",
            "Epoch 98/100\n",
            "484/484 [==============================] - 49s 100ms/step - loss: 1.1038 - accuracy: 0.8158\n",
            "Epoch 99/100\n",
            "484/484 [==============================] - 49s 101ms/step - loss: 1.1143 - accuracy: 0.8135\n",
            "Epoch 100/100\n",
            "484/484 [==============================] - 49s 101ms/step - loss: 1.0949 - accuracy: 0.8148\n"
          ],
          "name": "stdout"
        }
      ]
    },
    {
      "cell_type": "code",
      "metadata": {
        "colab": {
          "base_uri": "https://localhost:8080/",
          "height": 545
        },
        "id": "OUI8m2Sy-ww5",
        "outputId": "482e1736-74fc-438a-b07c-ce9b12668465"
      },
      "source": [
        "import matplotlib.pyplot as plt\n",
        "\n",
        "acc = history.history['accuracy']\n",
        "loss = history.history['loss']\n",
        "\n",
        "epochs = range(len(acc))\n",
        "\n",
        "plt.plot(epochs, acc, 'b', label='Training accuray')\n",
        "plt.title('Training accuracy')\n",
        "\n",
        "plt.figure()\n",
        "\n",
        "plt.plot(epochs, loss, 'b', label='Training loss')\n",
        "plt.title('Training loss')\n",
        "plt.legend()\n",
        "\n",
        "plt.show()"
      ],
      "execution_count": 6,
      "outputs": [
        {
          "output_type": "display_data",
          "data": {
            "image/png": "[encoded data removed]",
            "text/plain": [
              "<Figure size 432x288 with 1 Axes>"
            ]
          },
          "metadata": {
            "tags": [],
            "needs_background": "light"
          }
        },
        {
          "output_type": "display_data",
          "data": {
            "image/png": "[encoded data removed]",
            "text/plain": [
              "<Figure size 432x288 with 1 Axes>"
            ]
          },
          "metadata": {
            "tags": [],
            "needs_background": "light"
          }
        }
      ]
    },
    {
      "cell_type": "code",
      "metadata": {
        "colab": {
          "base_uri": "https://localhost:8080/"
        },
        "id": "eNVHDyC-_77D",
        "outputId": "df7ca854-3586-43aa-84d7-c1739cb22c49"
      },
      "source": [
        "seed_text = \"Help me Obi Wan Kenobi, you're my only hope\"\n",
        "next_word = 100\n",
        "\n",
        "for i in range(next_word):\n",
        "  token_list = tokenizer.texts_to_sequences([seed_text])[0]\n",
        "  token_list = pad_sequences([token_list], maxlen=max_sequence_len-1, padding='pre')\n",
        "\n",
        "  predictor = model.predict_classes(token_list, verbose=0)\n",
        "\n",
        "  output_word = \"\"\n",
        "  for word, index in tokenizer.word_index.items():\n",
        "    if index == predictor:\n",
        "      output_word = word\n",
        "      break\n",
        "  seed_text += \" \" + output_word\n",
        "  \n",
        "print(seed_text)"
      ],
      "execution_count": 9,
      "outputs": [
        {
          "output_type": "stream",
          "text": [
            "/usr/local/lib/python3.7/dist-packages/tensorflow/python/keras/engine/sequential.py:450: UserWarning: `model.predict_classes()` is deprecated and will be removed after 2021-01-01. Please use instead:* `np.argmax(model.predict(x), axis=-1)`,   if your model does multi-class classification   (e.g. if it uses a `softmax` last-layer activation).* `(model.predict(x) > 0.5).astype(\"int32\")`,   if your model does binary classification   (e.g. if it uses a `sigmoid` last-layer activation).\n",
            "  warnings.warn('`model.predict_classes()` is deprecated and '\n"
          ],
          "name": "stderr"
        },
        {
          "output_type": "stream",
          "text": [
            "Help me Obi Wan Kenobi, you're my only hope his prize for me ground ' you lies shown tender'd bevel light wrong rhyme twain staineth bevel days days last so mind days seen seen seen outworn store speaking flowers tongue controlling living older friend tongue tongue tongue much near mine eye can you prove thee well is such great same growth on men ill new new new green ill ill still of time i know thee true think true true treasure view view view cross give view view view view view view view brought back last swearing swearing groan ' in thee doth brief skill deem'd free told thine\n"
          ],
          "name": "stdout"
        }
      ]
    },
    {
      "cell_type": "code",
      "metadata": {
        "id": "JsO3fhjHRWOj"
      },
      "source": [
        "model.save('shakspeare.h5')"
      ],
      "execution_count": 10,
      "outputs": []
    },
    {
      "cell_type": "code",
      "metadata": {
        "id": "h2m3ySAoR80Q"
      },
      "source": [
        ""
      ],
      "execution_count": null,
      "outputs": []
    }
  ]
}